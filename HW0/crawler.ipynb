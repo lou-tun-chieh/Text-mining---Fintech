{
 "cells": [
  {
   "cell_type": "markdown",
   "metadata": {},
   "source": [
    " write a function to parse the HTML response, return the data we want(title, content, ...etc)."
   ]
  },
  {
   "cell_type": "code",
   "execution_count": 1,
   "metadata": {
    "slideshow": {
     "slide_type": "-"
    }
   },
   "outputs": [],
   "source": [
    "import requests\n",
    "from bs4 import BeautifulSoup "
   ]
  },
  {
   "cell_type": "code",
   "execution_count": 2,
   "metadata": {},
   "outputs": [],
   "source": [
    "def process_document(url):    \n",
    "    \n",
    "    li_req = requests.get(url)\n",
    "    li_doc = BeautifulSoup(li_req.text,\"html.parser\")\n",
    "    u = li_doc.select(\"div.btn-group.btn-group-paging a\") \n",
    "    data = list()\n",
    "    i = 0\n",
    "    \n",
    "    #當沒有上一頁或是超過5頁即停止\n",
    "    while( u != None and i<5):\n",
    "        li_req = requests.get(url)\n",
    "        li_doc = BeautifulSoup(li_req.text,\"html.parser\")\n",
    "        u = li_doc.select(\"div.btn-group.btn-group-paging a\") \n",
    "        \n",
    "        #get data we want and append new row\n",
    "        total = li_doc.select(\"div.r-ent\")\n",
    "        for line in total:\n",
    "            li_title = line.select(\"div.title\")[0].get_text()\n",
    "            li_date = line.select(\"div.date\")[0].get_text()\n",
    "            li_author = line.select(\"div.author\")[0].get_text()\n",
    "            li_comment = line.select(\"div.nrec\")[0].get_text()\n",
    "            data.append({\n",
    "                'title': li_title,\n",
    "                'date': li_date,\n",
    "                'author': li_author,\n",
    "                'comment': li_comment,\n",
    "\t\t\t})\n",
    "            \n",
    "        #更新url\n",
    "        url = \"https://www.ptt.cc\"+ u[1][\"href\"]\n",
    "        i+=1\n",
    "    return data"
   ]
  },
  {
   "cell_type": "code",
   "execution_count": 3,
   "metadata": {},
   "outputs": [],
   "source": [
    "url = \"https://www.ptt.cc/bbs/Lakers/index.html\"\n",
    "url_2 = \"https://www.ptt.cc/bbs/movie/index.html\"\n",
    "data = process_document(url)\n",
    "data_2 = process_document(url_2)"
   ]
  },
  {
   "cell_type": "code",
   "execution_count": 4,
   "metadata": {},
   "outputs": [
    {
     "data": {
      "text/plain": [
       "[{'title': '\\n[外電] 傷兵報告~\\n',\n",
       "  'date': ' 3/06',\n",
       "  'author': 'Deltronsbet',\n",
       "  'comment': '爆'},\n",
       " {'title': '\\nRe: [閒聊] Power Tanking 3/5\\n',\n",
       "  'date': ' 3/06',\n",
       "  'author': 'beckseaton',\n",
       "  'comment': '63'},\n",
       " {'title': '\\nRe: [外電] 傷兵報告~\\n',\n",
       "  'date': ' 3/07',\n",
       "  'author': 'kimdaphone',\n",
       "  'comment': '37'},\n",
       " {'title': '\\n[LIVE] 金塊 @ 湖人\\n',\n",
       "  'date': ' 3/07',\n",
       "  'author': 'shamus0309',\n",
       "  'comment': '爆'},\n",
       " {'title': '\\nRe: [閒聊] Power Tanking 3/7\\n',\n",
       "  'date': ' 3/07',\n",
       "  'author': 'lonzoslaker',\n",
       "  'comment': '爆'},\n",
       " {'title': '\\n[討論] 放掉Dlo是不是個錯?\\n',\n",
       "  'date': ' 3/07',\n",
       "  'author': 'SouthernFire',\n",
       "  'comment': '80'},\n",
       " {'title': '\\nRe: [討論] Info- Ramona \\n',\n",
       "  'date': ' 3/07',\n",
       "  'author': 'ShowBeanYou',\n",
       "  'comment': '92'},\n",
       " {'title': \"\\nFw: [外絮] ESPN's Greenberg：LBJ是可怕的隊友\\u3000根本是更衣室殺手\\n\",\n",
       "  'date': ' 3/07',\n",
       "  'author': 'qazwsx879345',\n",
       "  'comment': '12'},\n",
       " {'title': '\\nFw: [BOX ] Nuggets 115:99 Lakers 數據\\n',\n",
       "  'date': ' 3/07',\n",
       "  'author': 'Acetoxy',\n",
       "  'comment': '8'}]"
      ]
     },
     "execution_count": 4,
     "metadata": {},
     "output_type": "execute_result"
    }
   ],
   "source": [
    "#ptt Lakers版\n",
    "data[6:15]"
   ]
  },
  {
   "cell_type": "code",
   "execution_count": 5,
   "metadata": {},
   "outputs": [
    {
     "data": {
      "text/plain": [
       "[{'title': '\\n[討論] 復聯五是不是得請出原始超越者才有看頭\\n',\n",
       "  'date': ' 3/07',\n",
       "  'author': 'jack8587',\n",
       "  'comment': '6'},\n",
       " {'title': '\\n[討論] 驚奇隊長有同志意味嗎?\\n',\n",
       "  'date': ' 3/07',\n",
       "  'author': 'arsl400',\n",
       "  'comment': '20'},\n",
       " {'title': '\\n[  普雷] 驚奇隊長\\n',\n",
       "  'date': ' 3/07',\n",
       "  'author': 'Roro0813',\n",
       "  'comment': '3'},\n",
       " {'title': '\\n[新聞] 《他們不再老去》百年珍貴史料躍上大銀幕\\n',\n",
       "  'date': ' 3/07',\n",
       "  'author': 'amix',\n",
       "  'comment': '7'},\n",
       " {'title': '\\n[討論] 解析《蜘蛛人：新宇宙》的動畫技術\\n',\n",
       "  'date': ' 3/07',\n",
       "  'author': 'ling30113',\n",
       "  'comment': '12'},\n",
       " {'title': '\\n[問片] 請問90年代，賭跟女鬼的港片？\\n',\n",
       "  'date': ' 3/07',\n",
       "  'author': 'topic21000',\n",
       "  'comment': '16'},\n",
       " {'title': '\\n[新聞] 沙贊最另類DC超級英雄屁孩獲神力讓ATM吐鈔\\n',\n",
       "  'date': ' 3/07',\n",
       "  'author': 'hvariables',\n",
       "  'comment': '8'},\n",
       " {'title': '\\n[問片] 「有雷」幫助兄妹繼承遺產\\n',\n",
       "  'date': ' 3/07',\n",
       "  'author': 'Fmax',\n",
       "  'comment': ''},\n",
       " {'title': '\\n[討論] 意外看到的好片\\n',\n",
       "  'date': ' 3/07',\n",
       "  'author': 'moneybuy',\n",
       "  'comment': '30'}]"
      ]
     },
     "execution_count": 5,
     "metadata": {},
     "output_type": "execute_result"
    }
   ],
   "source": [
    "#ptt movie版\n",
    "data_2[6:15]"
   ]
  }
 ],
 "metadata": {
  "kernelspec": {
   "display_name": "Python 3",
   "language": "python",
   "name": "python3"
  },
  "language_info": {
   "codemirror_mode": {
    "name": "ipython",
    "version": 3
   },
   "file_extension": ".py",
   "mimetype": "text/x-python",
   "name": "python",
   "nbconvert_exporter": "python",
   "pygments_lexer": "ipython3",
   "version": "3.7.0"
  }
 },
 "nbformat": 4,
 "nbformat_minor": 2
}
